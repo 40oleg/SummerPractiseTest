{
 "cells": [
  {
   "cell_type": "code",
   "execution_count": 23,
   "metadata": {},
   "outputs": [],
   "source": [
    "import numpy as np"
   ]
  },
  {
   "cell_type": "code",
   "execution_count": 24,
   "metadata": {},
   "outputs": [],
   "source": [
    "a = np.random.rand(256,256)\n",
    "b = np.random.rand(256,256)"
   ]
  },
  {
   "cell_type": "code",
   "execution_count": 25,
   "metadata": {},
   "outputs": [],
   "source": [
    "c = np.matmul(a,b)"
   ]
  },
  {
   "cell_type": "code",
   "execution_count": 26,
   "metadata": {},
   "outputs": [
    {
     "data": {
      "text/plain": [
       "array([[63.49287956, 64.09106359, 65.15135597, ..., 63.5460964 ,\n",
       "        64.34375105, 61.73104873],\n",
       "       [59.8289705 , 62.14504775, 63.29476319, ..., 65.62013612,\n",
       "        61.72286366, 61.21631912],\n",
       "       [61.89037956, 57.64352836, 57.13928108, ..., 60.61637956,\n",
       "        61.1964389 , 60.71853775],\n",
       "       ...,\n",
       "       [62.13771576, 61.79690607, 64.80464168, ..., 62.64213095,\n",
       "        64.17933243, 63.42099395],\n",
       "       [65.13277418, 67.63384112, 68.81993735, ..., 68.19752228,\n",
       "        67.40235965, 69.18360036],\n",
       "       [59.52426403, 64.16446316, 59.48158058, ..., 63.99529971,\n",
       "        63.24322693, 63.41564746]])"
      ]
     },
     "execution_count": 26,
     "metadata": {},
     "output_type": "execute_result"
    }
   ],
   "source": [
    "c"
   ]
  },
  {
   "cell_type": "code",
   "execution_count": null,
   "metadata": {},
   "outputs": [],
   "source": []
  },
  {
   "cell_type": "code",
   "execution_count": null,
   "metadata": {},
   "outputs": [],
   "source": []
  }
 ],
 "metadata": {
  "kernelspec": {
   "display_name": "Python 3",
   "language": "python",
   "name": "python3"
  },
  "language_info": {
   "codemirror_mode": {
    "name": "ipython",
    "version": 3
   },
   "file_extension": ".py",
   "mimetype": "text/x-python",
   "name": "python",
   "nbconvert_exporter": "python",
   "pygments_lexer": "ipython3",
   "version": "3.8.5"
  }
 },
 "nbformat": 4,
 "nbformat_minor": 4
}
